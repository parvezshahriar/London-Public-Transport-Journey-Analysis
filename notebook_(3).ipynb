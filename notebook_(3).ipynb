{
  "cells": [
    {
      "source": [
        "-- most_popular_transport_types\n",
        "SELECT JOURNEY_TYPE,\n",
        "\tSUM(JOURNEYS_MILLIONS) as TOTAL_JOURNEYS_MILLIONS\n",
        "FROM TFL.JOURNEYS\n",
        "GROUP BY JOURNEY_TYPE\n",
        "ORDER BY TOTAL_JOURNEYS_MILLIONS DESC;\n"
      ],
      "metadata": {
        "customType": "sql",
        "dataFrameVariableName": "most_popular_transport_types",
        "sqlCellMode": "dataFrame",
        "sqlSource": {
          "integrationId": "e0c96696-ae0a-46fb-b6f9-1a43eb428ecb",
          "type": "integration"
        },
        "executionCancelledAt": null,
        "executionTime": null,
        "lastExecutedAt": null,
        "lastScheduledRunId": null,
        "lastSuccessfullyExecutedCode": null,
        "lastExecutedByKernel": null,
        "outputsMetadata": {
          "0": {
            "height": 550,
            "type": "dataFrame",
            "tableState": {
              "customFilter": {
                "const": {
                  "type": "boolean",
                  "valid": true,
                  "value": true
                },
                "id": "e6f88c8e-1051-4994-be02-e18ef1353d2c",
                "nodeType": "const"
              }
            }
          }
        },
        "id": "8d9fea80-b22f-4b79-aa93-1fb581d04b12",
        "outputId": "e7855243-5852-4f2d-edc5-e5e95a55d344"
      },
      "id": "8d9fea80-b22f-4b79-aa93-1fb581d04b12",
      "cell_type": "code",
      "execution_count": null,
      "outputs": [
        {
          "output_type": "execute_result",
          "data": {
            "application/com.datacamp.data-table.v2+json": {
              "table": {
                "schema": {
                  "fields": [
                    {
                      "name": "index",
                      "type": "integer"
                    },
                    {
                      "name": "JOURNEY_TYPE",
                      "type": "string"
                    },
                    {
                      "name": "TOTAL_JOURNEYS_MILLIONS",
                      "type": "number"
                    }
                  ],
                  "primaryKey": [
                    "index"
                  ],
                  "pandas_version": "1.4.0"
                },
                "data": {
                  "index": [
                    0,
                    1,
                    2,
                    3,
                    4,
                    5
                  ],
                  "JOURNEY_TYPE": [
                    "Bus",
                    "Underground & DLR",
                    "Overground",
                    "TfL Rail",
                    "Tram",
                    "Emirates Airline"
                  ],
                  "TOTAL_JOURNEYS_MILLIONS": [
                    24905.19394699,
                    15020.466543504,
                    1666.8456664279,
                    411.3134209833,
                    314.6898754821,
                    14.5837175749
                  ]
                }
              },
              "total_rows": 6,
              "truncation_type": null
            },
            "text/plain": "        JOURNEY_TYPE  TOTAL_JOURNEYS_MILLIONS\n0                Bus             24905.193947\n1  Underground & DLR             15020.466544\n2         Overground              1666.845666\n3           TfL Rail               411.313421\n4               Tram               314.689875\n5   Emirates Airline                14.583718",
            "text/html": "<div>\n<style scoped>\n    .dataframe tbody tr th:only-of-type {\n        vertical-align: middle;\n    }\n\n    .dataframe tbody tr th {\n        vertical-align: top;\n    }\n\n    .dataframe thead th {\n        text-align: right;\n    }\n</style>\n<table border=\"1\" class=\"dataframe\">\n  <thead>\n    <tr style=\"text-align: right;\">\n      <th></th>\n      <th>JOURNEY_TYPE</th>\n      <th>TOTAL_JOURNEYS_MILLIONS</th>\n    </tr>\n  </thead>\n  <tbody>\n    <tr>\n      <th>0</th>\n      <td>Bus</td>\n      <td>24905.193947</td>\n    </tr>\n    <tr>\n      <th>1</th>\n      <td>Underground &amp; DLR</td>\n      <td>15020.466544</td>\n    </tr>\n    <tr>\n      <th>2</th>\n      <td>Overground</td>\n      <td>1666.845666</td>\n    </tr>\n    <tr>\n      <th>3</th>\n      <td>TfL Rail</td>\n      <td>411.313421</td>\n    </tr>\n    <tr>\n      <th>4</th>\n      <td>Tram</td>\n      <td>314.689875</td>\n    </tr>\n    <tr>\n      <th>5</th>\n      <td>Emirates Airline</td>\n      <td>14.583718</td>\n    </tr>\n  </tbody>\n</table>\n</div>"
          },
          "metadata": {
            "application/com.datacamp.data-table.v2+json": {
              "status": "success"
            }
          },
          "execution_count": 27,
          "@datacamp/metadata": {
            "executedQuery": "-- most_popular_transport_types\nSELECT JOURNEY_TYPE, \n\tSUM(JOURNEYS_MILLIONS) as TOTAL_JOURNEYS_MILLIONS\nFROM TFL.JOURNEYS\nGROUP BY JOURNEY_TYPE\nORDER BY TOTAL_JOURNEYS_MILLIONS DESC;",
            "executedQueryParameters": []
          }
        }
      ]
    },
    {
      "source": [
        "-- emirates_airline_popularity\n",
        "select month,year,round(journeys_millions,2) as rounded_journeys_millions\n",
        "from tfl.journeys\n",
        "where journey_type='Emirates Airline' and rounded_journeys_millions is not null\n",
        "order by rounded_journeys_millions desc\n",
        "limit 5;"
      ],
      "metadata": {
        "customType": "sql",
        "dataFrameVariableName": "emirates_airline_popularity",
        "sqlCellMode": "dataFrame",
        "sqlSource": {
          "integrationId": "e0c96696-ae0a-46fb-b6f9-1a43eb428ecb",
          "type": "integration"
        },
        "executionCancelledAt": null,
        "executionTime": 1459,
        "lastExecutedAt": 1752140478709,
        "lastScheduledRunId": null,
        "lastSuccessfullyExecutedCode": "-- emirates_airline_popularity\nselect month,year,round(journeys_millions,2) as rounded_journeys_millions\nfrom tfl.journeys\nwhere journey_type='Emirates Airline' and rounded_journeys_millions is not null\norder by rounded_journeys_millions desc\nlimit 5;",
        "lastExecutedByKernel": "743afa5d-8e3d-4eb3-88e0-85d160fcae27",
        "outputsMetadata": {
          "0": {
            "height": 550,
            "type": "dataFrame",
            "tableState": {}
          }
        },
        "id": "7e021cbb-35c0-4b65-8b63-db04bae2861c",
        "outputId": "50260f9d-c8ee-4e81-bf4b-d03b8bbb0b0e"
      },
      "id": "7e021cbb-35c0-4b65-8b63-db04bae2861c",
      "cell_type": "code",
      "execution_count": null,
      "outputs": [
        {
          "output_type": "execute_result",
          "data": {
            "application/com.datacamp.data-table.v2+json": {
              "table": {
                "schema": {
                  "fields": [
                    {
                      "name": "index",
                      "type": "integer"
                    },
                    {
                      "name": "MONTH",
                      "type": "integer"
                    },
                    {
                      "name": "YEAR",
                      "type": "integer"
                    },
                    {
                      "name": "ROUNDED_JOURNEYS_MILLIONS",
                      "type": "number"
                    }
                  ],
                  "primaryKey": [
                    "index"
                  ],
                  "pandas_version": "1.4.0"
                },
                "data": {
                  "index": [
                    0,
                    1,
                    2,
                    3,
                    4
                  ],
                  "MONTH": [
                    5,
                    6,
                    4,
                    5,
                    5
                  ],
                  "YEAR": [
                    2012,
                    2012,
                    2012,
                    2013,
                    2015
                  ],
                  "ROUNDED_JOURNEYS_MILLIONS": [
                    0.53,
                    0.38,
                    0.24,
                    0.19,
                    0.19
                  ]
                }
              },
              "total_rows": 5,
              "truncation_type": null
            },
            "text/plain": "   MONTH  YEAR  ROUNDED_JOURNEYS_MILLIONS\n0      5  2012                       0.53\n1      6  2012                       0.38\n2      4  2012                       0.24\n3      5  2013                       0.19\n4      5  2015                       0.19",
            "text/html": "<div>\n<style scoped>\n    .dataframe tbody tr th:only-of-type {\n        vertical-align: middle;\n    }\n\n    .dataframe tbody tr th {\n        vertical-align: top;\n    }\n\n    .dataframe thead th {\n        text-align: right;\n    }\n</style>\n<table border=\"1\" class=\"dataframe\">\n  <thead>\n    <tr style=\"text-align: right;\">\n      <th></th>\n      <th>MONTH</th>\n      <th>YEAR</th>\n      <th>ROUNDED_JOURNEYS_MILLIONS</th>\n    </tr>\n  </thead>\n  <tbody>\n    <tr>\n      <th>0</th>\n      <td>5</td>\n      <td>2012</td>\n      <td>0.53</td>\n    </tr>\n    <tr>\n      <th>1</th>\n      <td>6</td>\n      <td>2012</td>\n      <td>0.38</td>\n    </tr>\n    <tr>\n      <th>2</th>\n      <td>4</td>\n      <td>2012</td>\n      <td>0.24</td>\n    </tr>\n    <tr>\n      <th>3</th>\n      <td>5</td>\n      <td>2013</td>\n      <td>0.19</td>\n    </tr>\n    <tr>\n      <th>4</th>\n      <td>5</td>\n      <td>2015</td>\n      <td>0.19</td>\n    </tr>\n  </tbody>\n</table>\n</div>"
          },
          "metadata": {
            "application/com.datacamp.data-table.v2+json": {
              "status": "success"
            }
          },
          "execution_count": 28,
          "@datacamp/metadata": {
            "executedQuery": "-- emirates_airline_popularity\nselect month,year,round(journeys_millions,2) as rounded_journeys_millions\nfrom tfl.journeys\nwhere journey_type='Emirates Airline' and rounded_journeys_millions is not null\norder by rounded_journeys_millions desc\nlimit 5;",
            "executedQueryParameters": []
          }
        }
      ]
    },
    {
      "source": [
        "-- least_popular_years_tube\n",
        "SELECT YEAR,\n",
        "\tJOURNEY_TYPE,\n",
        "\tSUM(JOURNEYS_MILLIONS) as TOTAL_JOURNEYS_MILLIONS\n",
        "FROM TFL.JOURNEYS\n",
        "WHERE JOURNEY_TYPE LIKE '%Underground%'\n",
        "GROUP BY YEAR, JOURNEY_TYPE\n",
        "ORDER BY TOTAL_JOURNEYS_MILLIONS\n",
        "LIMIT 5;"
      ],
      "metadata": {
        "customType": "sql",
        "dataFrameVariableName": "least_popular_years_tube",
        "sqlCellMode": "dataFrame",
        "sqlSource": {
          "integrationId": "e0c96696-ae0a-46fb-b6f9-1a43eb428ecb",
          "type": "integration"
        },
        "executionCancelledAt": null,
        "executionTime": 2390,
        "lastExecutedAt": 1752140481099,
        "lastScheduledRunId": null,
        "lastSuccessfullyExecutedCode": "-- least_popular_years_tube\nSELECT YEAR,\n\tJOURNEY_TYPE,\n\tSUM(JOURNEYS_MILLIONS) as TOTAL_JOURNEYS_MILLIONS\nFROM TFL.JOURNEYS\nWHERE JOURNEY_TYPE LIKE '%Underground%'\nGROUP BY YEAR, JOURNEY_TYPE\nORDER BY TOTAL_JOURNEYS_MILLIONS\nLIMIT 5;",
        "lastExecutedByKernel": "743afa5d-8e3d-4eb3-88e0-85d160fcae27",
        "outputsMetadata": {
          "0": {
            "height": 550,
            "type": "dataFrame",
            "tableState": {}
          }
        },
        "id": "ed4c5893-aa2e-469d-99e9-8eb2fc5ccc43",
        "outputId": "86d14cb8-5acc-4306-a0e2-9acaefb4c83e"
      },
      "id": "ed4c5893-aa2e-469d-99e9-8eb2fc5ccc43",
      "cell_type": "code",
      "execution_count": null,
      "outputs": [
        {
          "output_type": "execute_result",
          "data": {
            "application/com.datacamp.data-table.v2+json": {
              "table": {
                "schema": {
                  "fields": [
                    {
                      "name": "index",
                      "type": "integer"
                    },
                    {
                      "name": "YEAR",
                      "type": "integer"
                    },
                    {
                      "name": "JOURNEY_TYPE",
                      "type": "string"
                    },
                    {
                      "name": "TOTAL_JOURNEYS_MILLIONS",
                      "type": "number"
                    }
                  ],
                  "primaryKey": [
                    "index"
                  ],
                  "pandas_version": "1.4.0"
                },
                "data": {
                  "index": [
                    0,
                    1,
                    2,
                    3,
                    4
                  ],
                  "YEAR": [
                    2020,
                    2021,
                    2022,
                    2010,
                    2011
                  ],
                  "JOURNEY_TYPE": [
                    "Underground & DLR",
                    "Underground & DLR",
                    "Underground & DLR",
                    "Underground & DLR",
                    "Underground & DLR"
                  ],
                  "TOTAL_JOURNEYS_MILLIONS": [
                    310.179316314,
                    748.4525442,
                    1064.8590086,
                    1096.14558838,
                    1156.64765448
                  ]
                }
              },
              "total_rows": 5,
              "truncation_type": null
            },
            "text/plain": "   YEAR       JOURNEY_TYPE  TOTAL_JOURNEYS_MILLIONS\n0  2020  Underground & DLR               310.179316\n1  2021  Underground & DLR               748.452544\n2  2022  Underground & DLR              1064.859009\n3  2010  Underground & DLR              1096.145588\n4  2011  Underground & DLR              1156.647654",
            "text/html": "<div>\n<style scoped>\n    .dataframe tbody tr th:only-of-type {\n        vertical-align: middle;\n    }\n\n    .dataframe tbody tr th {\n        vertical-align: top;\n    }\n\n    .dataframe thead th {\n        text-align: right;\n    }\n</style>\n<table border=\"1\" class=\"dataframe\">\n  <thead>\n    <tr style=\"text-align: right;\">\n      <th></th>\n      <th>YEAR</th>\n      <th>JOURNEY_TYPE</th>\n      <th>TOTAL_JOURNEYS_MILLIONS</th>\n    </tr>\n  </thead>\n  <tbody>\n    <tr>\n      <th>0</th>\n      <td>2020</td>\n      <td>Underground &amp; DLR</td>\n      <td>310.179316</td>\n    </tr>\n    <tr>\n      <th>1</th>\n      <td>2021</td>\n      <td>Underground &amp; DLR</td>\n      <td>748.452544</td>\n    </tr>\n    <tr>\n      <th>2</th>\n      <td>2022</td>\n      <td>Underground &amp; DLR</td>\n      <td>1064.859009</td>\n    </tr>\n    <tr>\n      <th>3</th>\n      <td>2010</td>\n      <td>Underground &amp; DLR</td>\n      <td>1096.145588</td>\n    </tr>\n    <tr>\n      <th>4</th>\n      <td>2011</td>\n      <td>Underground &amp; DLR</td>\n      <td>1156.647654</td>\n    </tr>\n  </tbody>\n</table>\n</div>"
          },
          "metadata": {
            "application/com.datacamp.data-table.v2+json": {
              "status": "success"
            }
          },
          "execution_count": 29,
          "@datacamp/metadata": {
            "executedQuery": "-- least_popular_years_tube\nSELECT YEAR,\n\tJOURNEY_TYPE,\n\tSUM(JOURNEYS_MILLIONS) as TOTAL_JOURNEYS_MILLIONS\nFROM TFL.JOURNEYS\nWHERE JOURNEY_TYPE LIKE '%Underground%'\nGROUP BY YEAR, JOURNEY_TYPE\nORDER BY TOTAL_JOURNEYS_MILLIONS\nLIMIT 5;",
            "executedQueryParameters": []
          }
        }
      ]
    }
  ],
  "metadata": {
    "colab": {
      "provenance": []
    },
    "kernelspec": {
      "display_name": "Python 3 (ipykernel)",
      "language": "python",
      "name": "python3"
    },
    "language_info": {
      "codemirror_mode": {
        "name": "ipython",
        "version": 3
      },
      "file_extension": ".py",
      "mimetype": "text/x-python",
      "name": "python",
      "nbconvert_exporter": "python",
      "pygments_lexer": "ipython3",
      "version": "3.8.10"
    }
  },
  "nbformat": 4,
  "nbformat_minor": 5
}